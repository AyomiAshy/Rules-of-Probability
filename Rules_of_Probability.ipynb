{
  "nbformat": 4,
  "nbformat_minor": 0,
  "metadata": {
    "colab": {
      "provenance": [],
      "authorship_tag": "ABX9TyNp+493peZmrIqW125wyvW3",
      "include_colab_link": true
    },
    "kernelspec": {
      "name": "python3",
      "display_name": "Python 3"
    },
    "language_info": {
      "name": "python"
    }
  },
  "cells": [
    {
      "cell_type": "markdown",
      "metadata": {
        "id": "view-in-github",
        "colab_type": "text"
      },
      "source": [
        "<a href=\"https://colab.research.google.com/github/AyomiAshy/Rules-of-Probability/blob/main/Rules_of_Probability.ipynb\" target=\"_parent\"><img src=\"https://colab.research.google.com/assets/colab-badge.svg\" alt=\"Open In Colab\"/></a>"
      ]
    },
    {
      "cell_type": "code",
      "execution_count": 1,
      "metadata": {
        "colab": {
          "base_uri": "https://localhost:8080/"
        },
        "id": "raNiTwV3UawC",
        "outputId": "f9430593-212c-4f26-dbc1-d27d17121a6e"
      },
      "outputs": [
        {
          "output_type": "stream",
          "name": "stdout",
          "text": [
            "{'X', 'E', 'C', 'B', 'Y', 'V', 'A', 'D', 'Z'}\n"
          ]
        }
      ],
      "source": [
        "# Creating both sets\n",
        "set1 = {'A', 'B', 'C', 'D', 'E'}\n",
        "set2 = {'B', 'D', 'V', 'X', 'Y', 'Z'}\n",
        "# Union\n",
        "union_set = set1.union(set2)# Or set1 | set2\n",
        "print(union_set)\n"
      ]
    },
    {
      "cell_type": "code",
      "source": [
        "# Set Intersection\n",
        "intersection_set = set1.intersection(set2)# or set1 & set2\n",
        "print(intersection_set)"
      ],
      "metadata": {
        "colab": {
          "base_uri": "https://localhost:8080/"
        },
        "id": "cC-Qg_7_bTBp",
        "outputId": "11de7863-d4c6-46d1-8659-ec7ba2de20ed"
      },
      "execution_count": 2,
      "outputs": [
        {
          "output_type": "stream",
          "name": "stdout",
          "text": [
            "{'B', 'D'}\n"
          ]
        }
      ]
    },
    {
      "cell_type": "code",
      "source": [
        "# Set Difference\n",
        "difference_set = set1.difference(set2)# or set1 - set2\n",
        "print(difference_set) # Print values found in set1 that are not in set2"
      ],
      "metadata": {
        "colab": {
          "base_uri": "https://localhost:8080/"
        },
        "id": "vDN5Wdzgc0fT",
        "outputId": "c0b89647-61c8-45be-b5d7-b6b9bee3b0d1"
      },
      "execution_count": 3,
      "outputs": [
        {
          "output_type": "stream",
          "name": "stdout",
          "text": [
            "{'E', 'C', 'A'}\n"
          ]
        }
      ]
    }
  ]
}