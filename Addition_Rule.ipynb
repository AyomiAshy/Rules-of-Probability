{
  "nbformat": 4,
  "nbformat_minor": 0,
  "metadata": {
    "colab": {
      "provenance": [],
      "authorship_tag": "ABX9TyOWBCuG7JgJskqCUSY5LBwd",
      "include_colab_link": true
    },
    "kernelspec": {
      "name": "python3",
      "display_name": "Python 3"
    },
    "language_info": {
      "name": "python"
    }
  },
  "cells": [
    {
      "cell_type": "markdown",
      "metadata": {
        "id": "view-in-github",
        "colab_type": "text"
      },
      "source": [
        "<a href=\"https://colab.research.google.com/github/AyomiAshy/Rules-of-Probability/blob/main/Addition_Rule.ipynb\" target=\"_parent\"><img src=\"https://colab.research.google.com/assets/colab-badge.svg\" alt=\"Open In Colab\"/></a>"
      ]
    },
    {
      "cell_type": "code",
      "execution_count": 2,
      "metadata": {
        "colab": {
          "base_uri": "https://localhost:8080/"
        },
        "id": "9HluQ-FSeLOv",
        "outputId": "51245a88-d959-42ff-9fad-e613f6c9be73"
      },
      "outputs": [
        {
          "output_type": "stream",
          "name": "stdout",
          "text": [
            "P(A): 0.5\n",
            "P(B): 0.6666666666666666\n",
            "P(A ∩ B): 0.3333333333333333\n",
            "P(A ∪ B): 0.8333333333333333\n"
          ]
        }
      ],
      "source": [
        "# Sammple space for a six-side die\n",
        "S ={1, 2, 3, 4, 5, 6}\n",
        "# Define events\n",
        "A = {2, 4, 6} # Even Numbers\n",
        "B = {3, 4, 5, 6} # Numbers greater than 2\n",
        "# Probabilities\n",
        "P_A = len(A) / len(S)\n",
        "P_B = len(B) / len(S)\n",
        "P_A_and_B = len(A & B) / len(S) # Intersection\n",
        "# Addition Rule\n",
        "P_A_or_B = P_A + P_B - P_A_and_B\n",
        "# Print Results\n",
        "print(\"P(A):\", P_A)\n",
        "print(\"P(B):\", P_B)\n",
        "print(\"P(A ∩ B):\", P_A_and_B)\n",
        "print(\"P(A ∪ B):\", P_A_or_B)"
      ]
    },
    {
      "cell_type": "code",
      "source": [],
      "metadata": {
        "id": "ZDZxK1HegqOH"
      },
      "execution_count": null,
      "outputs": []
    }
  ]
}